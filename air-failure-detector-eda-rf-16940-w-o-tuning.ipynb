{
 "cells": [
  {
   "cell_type": "code",
   "execution_count": 1,
   "id": "ee756886",
   "metadata": {
    "_cell_guid": "b1076dfc-b9ad-4769-8c92-a6c4dae69d19",
    "_uuid": "8f2839f25d086af736a60e9eeb907d3b93b6e0e5",
    "execution": {
     "iopub.execute_input": "2024-08-17T17:42:20.394967Z",
     "iopub.status.busy": "2024-08-17T17:42:20.394493Z",
     "iopub.status.idle": "2024-08-17T17:42:49.737183Z",
     "shell.execute_reply": "2024-08-17T17:42:49.735586Z"
    },
    "papermill": {
     "duration": 29.360684,
     "end_time": "2024-08-17T17:42:49.740194",
     "exception": false,
     "start_time": "2024-08-17T17:42:20.379510",
     "status": "completed"
    },
    "tags": []
   },
   "outputs": [],
   "source": [
    "import pandas as pd\n",
    "import numpy as np\n",
    "import matplotlib.pyplot as plt\n",
    "import seaborn as sns\n",
    "from sklearn.model_selection import train_test_split\n",
    "from sklearn.model_selection import GridSearchCV\n",
    "from sklearn.ensemble import RandomForestClassifier\n",
    "from sklearn.metrics import accuracy_score\n",
    "from sklearn.metrics import confusion_matrix\n",
    "from sklearn.metrics import classification_report\n",
    "from sklearn.metrics import roc_curve\n",
    "from sklearn.utils import shuffle\n",
    "from sklearn.preprocessing import MinMaxScaler\n",
    "from sklearn.feature_selection import SelectKBest, f_classif, mutual_info_classif\n",
    "\n",
    "import os\n",
    "for dirname, _, filenames in os.walk('/kaggle/input'):\n",
    "    for filename in filenames:\n",
    "        # train set\n",
    "        df = pd.read_csv('/kaggle/input/aps-failure-at-scania-trucks-data-set/aps_failure_training_set.csv', encoding = \"ISO-8859-1\")\n",
    "\n",
    "        # test set\n",
    "        df_test = pd.read_csv('/kaggle/input/aps-failure-at-scania-trucks-data-set/aps_failure_test_set.csv', encoding = \"ISO-8859-1\")"
   ]
  },
  {
   "cell_type": "markdown",
   "id": "1ffddb97",
   "metadata": {
    "papermill": {
     "duration": 0.009788,
     "end_time": "2024-08-17T17:42:49.760395",
     "exception": false,
     "start_time": "2024-08-17T17:42:49.750607",
     "status": "completed"
    },
    "tags": []
   },
   "source": [
    "# EDA"
   ]
  },
  {
   "cell_type": "code",
   "execution_count": 2,
   "id": "a13584a7",
   "metadata": {
    "execution": {
     "iopub.execute_input": "2024-08-17T17:42:49.782622Z",
     "iopub.status.busy": "2024-08-17T17:42:49.782226Z",
     "iopub.status.idle": "2024-08-17T17:42:49.822501Z",
     "shell.execute_reply": "2024-08-17T17:42:49.821162Z"
    },
    "papermill": {
     "duration": 0.054861,
     "end_time": "2024-08-17T17:42:49.825561",
     "exception": false,
     "start_time": "2024-08-17T17:42:49.770700",
     "status": "completed"
    },
    "tags": []
   },
   "outputs": [
    {
     "data": {
      "text/html": [
       "<div>\n",
       "<style scoped>\n",
       "    .dataframe tbody tr th:only-of-type {\n",
       "        vertical-align: middle;\n",
       "    }\n",
       "\n",
       "    .dataframe tbody tr th {\n",
       "        vertical-align: top;\n",
       "    }\n",
       "\n",
       "    .dataframe thead th {\n",
       "        text-align: right;\n",
       "    }\n",
       "</style>\n",
       "<table border=\"1\" class=\"dataframe\">\n",
       "  <thead>\n",
       "    <tr style=\"text-align: right;\">\n",
       "      <th></th>\n",
       "      <th>class</th>\n",
       "      <th>aa_000</th>\n",
       "      <th>ab_000</th>\n",
       "      <th>ac_000</th>\n",
       "      <th>ad_000</th>\n",
       "      <th>ae_000</th>\n",
       "      <th>af_000</th>\n",
       "      <th>ag_000</th>\n",
       "      <th>ag_001</th>\n",
       "      <th>ag_002</th>\n",
       "      <th>...</th>\n",
       "      <th>ee_002</th>\n",
       "      <th>ee_003</th>\n",
       "      <th>ee_004</th>\n",
       "      <th>ee_005</th>\n",
       "      <th>ee_006</th>\n",
       "      <th>ee_007</th>\n",
       "      <th>ee_008</th>\n",
       "      <th>ee_009</th>\n",
       "      <th>ef_000</th>\n",
       "      <th>eg_000</th>\n",
       "    </tr>\n",
       "  </thead>\n",
       "  <tbody>\n",
       "    <tr>\n",
       "      <th>0</th>\n",
       "      <td>neg</td>\n",
       "      <td>76698</td>\n",
       "      <td>na</td>\n",
       "      <td>2130706438</td>\n",
       "      <td>280</td>\n",
       "      <td>0</td>\n",
       "      <td>0</td>\n",
       "      <td>0</td>\n",
       "      <td>0</td>\n",
       "      <td>0</td>\n",
       "      <td>...</td>\n",
       "      <td>1240520</td>\n",
       "      <td>493384</td>\n",
       "      <td>721044</td>\n",
       "      <td>469792</td>\n",
       "      <td>339156</td>\n",
       "      <td>157956</td>\n",
       "      <td>73224</td>\n",
       "      <td>0</td>\n",
       "      <td>0</td>\n",
       "      <td>0</td>\n",
       "    </tr>\n",
       "    <tr>\n",
       "      <th>1</th>\n",
       "      <td>neg</td>\n",
       "      <td>33058</td>\n",
       "      <td>na</td>\n",
       "      <td>0</td>\n",
       "      <td>na</td>\n",
       "      <td>0</td>\n",
       "      <td>0</td>\n",
       "      <td>0</td>\n",
       "      <td>0</td>\n",
       "      <td>0</td>\n",
       "      <td>...</td>\n",
       "      <td>421400</td>\n",
       "      <td>178064</td>\n",
       "      <td>293306</td>\n",
       "      <td>245416</td>\n",
       "      <td>133654</td>\n",
       "      <td>81140</td>\n",
       "      <td>97576</td>\n",
       "      <td>1500</td>\n",
       "      <td>0</td>\n",
       "      <td>0</td>\n",
       "    </tr>\n",
       "    <tr>\n",
       "      <th>2</th>\n",
       "      <td>neg</td>\n",
       "      <td>41040</td>\n",
       "      <td>na</td>\n",
       "      <td>228</td>\n",
       "      <td>100</td>\n",
       "      <td>0</td>\n",
       "      <td>0</td>\n",
       "      <td>0</td>\n",
       "      <td>0</td>\n",
       "      <td>0</td>\n",
       "      <td>...</td>\n",
       "      <td>277378</td>\n",
       "      <td>159812</td>\n",
       "      <td>423992</td>\n",
       "      <td>409564</td>\n",
       "      <td>320746</td>\n",
       "      <td>158022</td>\n",
       "      <td>95128</td>\n",
       "      <td>514</td>\n",
       "      <td>0</td>\n",
       "      <td>0</td>\n",
       "    </tr>\n",
       "    <tr>\n",
       "      <th>3</th>\n",
       "      <td>neg</td>\n",
       "      <td>12</td>\n",
       "      <td>0</td>\n",
       "      <td>70</td>\n",
       "      <td>66</td>\n",
       "      <td>0</td>\n",
       "      <td>10</td>\n",
       "      <td>0</td>\n",
       "      <td>0</td>\n",
       "      <td>0</td>\n",
       "      <td>...</td>\n",
       "      <td>240</td>\n",
       "      <td>46</td>\n",
       "      <td>58</td>\n",
       "      <td>44</td>\n",
       "      <td>10</td>\n",
       "      <td>0</td>\n",
       "      <td>0</td>\n",
       "      <td>0</td>\n",
       "      <td>4</td>\n",
       "      <td>32</td>\n",
       "    </tr>\n",
       "    <tr>\n",
       "      <th>4</th>\n",
       "      <td>neg</td>\n",
       "      <td>60874</td>\n",
       "      <td>na</td>\n",
       "      <td>1368</td>\n",
       "      <td>458</td>\n",
       "      <td>0</td>\n",
       "      <td>0</td>\n",
       "      <td>0</td>\n",
       "      <td>0</td>\n",
       "      <td>0</td>\n",
       "      <td>...</td>\n",
       "      <td>622012</td>\n",
       "      <td>229790</td>\n",
       "      <td>405298</td>\n",
       "      <td>347188</td>\n",
       "      <td>286954</td>\n",
       "      <td>311560</td>\n",
       "      <td>433954</td>\n",
       "      <td>1218</td>\n",
       "      <td>0</td>\n",
       "      <td>0</td>\n",
       "    </tr>\n",
       "  </tbody>\n",
       "</table>\n",
       "<p>5 rows × 171 columns</p>\n",
       "</div>"
      ],
      "text/plain": [
       "  class  aa_000 ab_000      ac_000 ad_000 ae_000 af_000 ag_000 ag_001 ag_002  \\\n",
       "0   neg   76698     na  2130706438    280      0      0      0      0      0   \n",
       "1   neg   33058     na           0     na      0      0      0      0      0   \n",
       "2   neg   41040     na         228    100      0      0      0      0      0   \n",
       "3   neg      12      0          70     66      0     10      0      0      0   \n",
       "4   neg   60874     na        1368    458      0      0      0      0      0   \n",
       "\n",
       "   ...   ee_002  ee_003  ee_004  ee_005  ee_006  ee_007  ee_008 ee_009 ef_000  \\\n",
       "0  ...  1240520  493384  721044  469792  339156  157956   73224      0      0   \n",
       "1  ...   421400  178064  293306  245416  133654   81140   97576   1500      0   \n",
       "2  ...   277378  159812  423992  409564  320746  158022   95128    514      0   \n",
       "3  ...      240      46      58      44      10       0       0      0      4   \n",
       "4  ...   622012  229790  405298  347188  286954  311560  433954   1218      0   \n",
       "\n",
       "  eg_000  \n",
       "0      0  \n",
       "1      0  \n",
       "2      0  \n",
       "3     32  \n",
       "4      0  \n",
       "\n",
       "[5 rows x 171 columns]"
      ]
     },
     "execution_count": 2,
     "metadata": {},
     "output_type": "execute_result"
    }
   ],
   "source": [
    "df.head()"
   ]
  },
  {
   "cell_type": "code",
   "execution_count": 3,
   "id": "ac48d85e",
   "metadata": {
    "execution": {
     "iopub.execute_input": "2024-08-17T17:42:49.848284Z",
     "iopub.status.busy": "2024-08-17T17:42:49.847854Z",
     "iopub.status.idle": "2024-08-17T17:42:50.152229Z",
     "shell.execute_reply": "2024-08-17T17:42:50.150668Z"
    },
    "papermill": {
     "duration": 0.319091,
     "end_time": "2024-08-17T17:42:50.155262",
     "exception": false,
     "start_time": "2024-08-17T17:42:49.836171",
     "status": "completed"
    },
    "tags": []
   },
   "outputs": [
    {
     "data": {
      "image/png": "[encoded data removed]",
      "text/plain": [
       "<Figure size 800x600 with 1 Axes>"
      ]
     },
     "metadata": {},
     "output_type": "display_data"
    }
   ],
   "source": [
    "# Classes counts\n",
    "counts = df['class'].value_counts()\n",
    "\n",
    "# Creating a bar graph\n",
    "plt.figure(figsize=(8, 6))\n",
    "bars = plt.bar(counts.index, counts.values, color=['blue', 'red'])\n",
    "\n",
    "# Adding the number on the bars\n",
    "for bar, count in zip(bars, counts.values):\n",
    "    plt.text(bar.get_x() + bar.get_width() / 2, bar.get_height() + 0.05, count,\n",
    "             ha='center', va='bottom', fontsize=10)\n",
    "\n",
    "plt.xlabel('Class')\n",
    "plt.ylabel('Count')\n",
    "plt.title('Classes count')\n",
    "plt.show()"
   ]
  },
  {
   "cell_type": "markdown",
   "id": "eb273a3c",
   "metadata": {
    "papermill": {
     "duration": 0.010789,
     "end_time": "2024-08-17T17:42:50.177648",
     "exception": false,
     "start_time": "2024-08-17T17:42:50.166859",
     "status": "completed"
    },
    "tags": []
   },
   "source": [
    "Based on this, we can observe that there are many more data points classified as 'neg', which correspond to air systems without defects, than data points classified as 'pos', which are anomalous air systems."
   ]
  },
  {
   "cell_type": "code",
   "execution_count": 4,
   "id": "f4f52e99",
   "metadata": {
    "execution": {
     "iopub.execute_input": "2024-08-17T17:42:50.202209Z",
     "iopub.status.busy": "2024-08-17T17:42:50.201069Z",
     "iopub.status.idle": "2024-08-17T17:42:52.340643Z",
     "shell.execute_reply": "2024-08-17T17:42:52.339390Z"
    },
    "papermill": {
     "duration": 2.154813,
     "end_time": "2024-08-17T17:42:52.343502",
     "exception": false,
     "start_time": "2024-08-17T17:42:50.188689",
     "status": "completed"
    },
    "tags": []
   },
   "outputs": [
    {
     "name": "stdout",
     "output_type": "stream",
     "text": [
      "    Column  Missing Values  Percentage of Missing Values\n",
      "79  br_000           49264                     82.106667\n",
      "78  bq_000           48722                     81.203333\n",
      "77  bp_000           47740                     79.566667\n",
      "76  bo_000           46333                     77.221667\n",
      "2   ab_000           46329                     77.215000\n",
      "..     ...             ...                           ...\n",
      "85  by_000             473                      0.788333\n",
      "95  ci_000             338                      0.563333\n",
      "96  cj_000             338                      0.563333\n",
      "97  ck_000             338                      0.563333\n",
      "81  bt_000             167                      0.278333\n",
      "\n",
      "[169 rows x 3 columns]\n"
     ]
    }
   ],
   "source": [
    "# Count of missing values ('na') per column\n",
    "missing_counts = df.apply(lambda x: x[x == 'na'].count())\n",
    "total_counts = len(df)\n",
    "missing_percentages = (missing_counts / total_counts) * 100\n",
    "\n",
    "# Create DataFrame with the results\n",
    "missing_df = pd.DataFrame({'Column': missing_counts.index,\n",
    "                           'Missing Values': missing_counts.values,\n",
    "                           'Percentage of Missing Values': missing_percentages.values})\n",
    "\n",
    "# Filter and sort by percentage of missing values\n",
    "missing_df = missing_df[missing_df['Missing Values'] > 0]\n",
    "missing_df = missing_df.sort_values(by='Percentage of Missing Values', ascending=False)\n",
    "\n",
    "print(missing_df)"
   ]
  },
  {
   "cell_type": "code",
   "execution_count": 5,
   "id": "e7ee994f",
   "metadata": {
    "execution": {
     "iopub.execute_input": "2024-08-17T17:42:52.367948Z",
     "iopub.status.busy": "2024-08-17T17:42:52.367530Z",
     "iopub.status.idle": "2024-08-17T17:42:52.375791Z",
     "shell.execute_reply": "2024-08-17T17:42:52.374380Z"
    },
    "papermill": {
     "duration": 0.02576,
     "end_time": "2024-08-17T17:42:52.380375",
     "exception": false,
     "start_time": "2024-08-17T17:42:52.354615",
     "status": "completed"
    },
    "tags": []
   },
   "outputs": [
    {
     "name": "stdout",
     "output_type": "stream",
     "text": [
      "['br_000', 'bq_000', 'bp_000', 'bo_000', 'ab_000', 'cr_000', 'bn_000', 'bm_000', 'cd_000']\n"
     ]
    }
   ],
   "source": [
    "# Get columns with more than 50% missing values\n",
    "columns_with_missing_values = missing_df[missing_df['Percentage of Missing Values'] > 50]['Column'].tolist()\n",
    "columns_with_missing_values.append('cd_000') # constant column\n",
    "print(columns_with_missing_values)"
   ]
  },
  {
   "cell_type": "code",
   "execution_count": 6,
   "id": "caecd95e",
   "metadata": {
    "execution": {
     "iopub.execute_input": "2024-08-17T17:42:52.406581Z",
     "iopub.status.busy": "2024-08-17T17:42:52.405743Z",
     "iopub.status.idle": "2024-08-17T17:42:55.268355Z",
     "shell.execute_reply": "2024-08-17T17:42:55.266909Z"
    },
    "papermill": {
     "duration": 2.87898,
     "end_time": "2024-08-17T17:42:55.272012",
     "exception": false,
     "start_time": "2024-08-17T17:42:52.393032",
     "status": "completed"
    },
    "tags": []
   },
   "outputs": [
    {
     "data": {
      "image/png": "[encoded data removed]",
      "text/plain": [
       "<Figure size 1500x1000 with 2 Axes>"
      ]
     },
     "metadata": {},
     "output_type": "display_data"
    }
   ],
   "source": [
    "def plot_examples(index: int) -> None:\n",
    "    df_copy = df.copy()\n",
    "\n",
    "    # Replace 'na' with 0 just for visualization\n",
    "    df_copy.replace('na', 0, inplace=True)\n",
    "\n",
    "    example_pos = df_copy[df_copy['class'] == 'pos'].iloc[index].drop('class', axis=0)\n",
    "    example_neg = df_copy[df_copy['class'] == 'neg'].iloc[index].drop('class', axis=0)\n",
    "\n",
    "    plt.figure(figsize=(15, 10))\n",
    "    plt.subplot(2, 2, 1)\n",
    "    plt.plot(example_pos.values, marker='o', linestyle='-')\n",
    "    plt.xlabel('Columns')  # Adjust according to column names\n",
    "    plt.ylabel('Values')\n",
    "    plt.title('Example of a defect in the air system')\n",
    "\n",
    "    plt.subplot(2, 2, 2)\n",
    "    plt.plot(example_neg.values, marker='o', linestyle='-')\n",
    "    plt.xlabel('Columns')  # Adjust according to column names\n",
    "    plt.ylabel('Values')\n",
    "    plt.title('Example of an ideal air system')\n",
    "    plt.show()\n",
    "\n",
    "plot_examples(3)\n"
   ]
  },
  {
   "cell_type": "markdown",
   "id": "568502d9",
   "metadata": {
    "papermill": {
     "duration": 0.012833,
     "end_time": "2024-08-17T17:42:55.297704",
     "exception": false,
     "start_time": "2024-08-17T17:42:55.284871",
     "status": "completed"
    },
    "tags": []
   },
   "source": [
    "This way, we can visualize an example of an ideal air system and an anomalous air system to start understanding the dataset we are working with. One idea that arises from this is to analyze the quartiles of an anomalous data point and an ideal data point to try to identify any interesting differences that could be useful for training a future machine learning model.\n",
    "\n"
   ]
  },
  {
   "cell_type": "code",
   "execution_count": 7,
   "id": "327499b1",
   "metadata": {
    "execution": {
     "iopub.execute_input": "2024-08-17T17:42:55.325088Z",
     "iopub.status.busy": "2024-08-17T17:42:55.324624Z",
     "iopub.status.idle": "2024-08-17T17:42:55.334776Z",
     "shell.execute_reply": "2024-08-17T17:42:55.333404Z"
    },
    "papermill": {
     "duration": 0.027252,
     "end_time": "2024-08-17T17:42:55.337509",
     "exception": false,
     "start_time": "2024-08-17T17:42:55.310257",
     "status": "completed"
    },
    "tags": []
   },
   "outputs": [
    {
     "data": {
      "text/plain": [
       "class     object\n",
       "aa_000     int64\n",
       "ab_000    object\n",
       "ac_000    object\n",
       "ad_000    object\n",
       "           ...  \n",
       "ee_007    object\n",
       "ee_008    object\n",
       "ee_009    object\n",
       "ef_000    object\n",
       "eg_000    object\n",
       "Length: 171, dtype: object"
      ]
     },
     "execution_count": 7,
     "metadata": {},
     "output_type": "execute_result"
    }
   ],
   "source": [
    "df.dtypes"
   ]
  },
  {
   "cell_type": "markdown",
   "id": "80366426",
   "metadata": {
    "papermill": {
     "duration": 0.013705,
     "end_time": "2024-08-17T17:42:55.363454",
     "exception": false,
     "start_time": "2024-08-17T17:42:55.349749",
     "status": "completed"
    },
    "tags": []
   },
   "source": [
    "We need to cast the object columns to numeric because we know they are numerical. This will significantly improve the performance of operations performed on the DataFrame and also allow us to perform calculations on these numbers, avoiding potential conflicts."
   ]
  },
  {
   "cell_type": "code",
   "execution_count": 8,
   "id": "587c5df6",
   "metadata": {
    "execution": {
     "iopub.execute_input": "2024-08-17T17:42:55.392682Z",
     "iopub.status.busy": "2024-08-17T17:42:55.391961Z",
     "iopub.status.idle": "2024-08-17T17:43:06.903596Z",
     "shell.execute_reply": "2024-08-17T17:43:06.902195Z"
    },
    "papermill": {
     "duration": 11.528307,
     "end_time": "2024-08-17T17:43:06.906538",
     "exception": false,
     "start_time": "2024-08-17T17:42:55.378231",
     "status": "completed"
    },
    "tags": []
   },
   "outputs": [
    {
     "data": {
      "text/plain": [
       "class      object\n",
       "aa_000      int64\n",
       "ab_000    float64\n",
       "ac_000    float64\n",
       "ad_000    float64\n",
       "           ...   \n",
       "ee_007    float64\n",
       "ee_008    float64\n",
       "ee_009    float64\n",
       "ef_000    float64\n",
       "eg_000    float64\n",
       "Length: 171, dtype: object"
      ]
     },
     "execution_count": 8,
     "metadata": {},
     "output_type": "execute_result"
    }
   ],
   "source": [
    "# We want all columns except the first one, 'class', to be converted.\n",
    "cols_to_convert = df.columns[1:]\n",
    "df[cols_to_convert] = df[cols_to_convert].apply(pd.to_numeric, errors='coerce')\n",
    "df.dtypes\n"
   ]
  },
  {
   "cell_type": "code",
   "execution_count": 9,
   "id": "a80f15ef",
   "metadata": {
    "execution": {
     "iopub.execute_input": "2024-08-17T17:43:06.933946Z",
     "iopub.status.busy": "2024-08-17T17:43:06.933290Z",
     "iopub.status.idle": "2024-08-17T17:43:08.020366Z",
     "shell.execute_reply": "2024-08-17T17:43:08.019155Z"
    },
    "papermill": {
     "duration": 1.103974,
     "end_time": "2024-08-17T17:43:08.023176",
     "exception": false,
     "start_time": "2024-08-17T17:43:06.919202",
     "status": "completed"
    },
    "tags": []
   },
   "outputs": [
    {
     "name": "stdout",
     "output_type": "stream",
     "text": [
      "POS:\n",
      "count    1.700000e+02\n",
      "mean     6.635108e+06\n",
      "std      1.622531e+07\n",
      "min      5.633803e-03\n",
      "25%      1.598809e+04\n",
      "50%      4.619795e+05\n",
      "75%      4.526754e+06\n",
      "max      1.179959e+08\n",
      "dtype: float64\n",
      "NEG:\n",
      "             aa_000        ab_000        ac_000        ad_000        ae_000  \\\n",
      "count  5.900000e+04  13442.000000  5.612700e+04  4.478400e+04  56841.000000   \n",
      "mean   4.916977e+04      0.698706  3.588573e+08  1.921137e+05      6.664802   \n",
      "std    1.100525e+05      3.458102  7.974031e+08  4.056424e+07    160.498622   \n",
      "min    0.000000e+00      0.000000  0.000000e+00  0.000000e+00      0.000000   \n",
      "25%    7.840000e+02      0.000000  1.600000e+01  2.400000e+01      0.000000   \n",
      "50%    3.041600e+04      0.000000  1.500000e+02  1.240000e+02      0.000000   \n",
      "75%    4.549300e+04      0.000000  9.420000e+02  4.260000e+02      0.000000   \n",
      "max    2.434708e+06    204.000000  2.130707e+09  8.584298e+09  21050.000000   \n",
      "\n",
      "             af_000        ag_000         ag_001        ag_002        ag_003  \\\n",
      "count  56841.000000  5.833300e+04   58333.000000  5.833300e+04  5.833300e+04   \n",
      "mean      10.497845  1.885413e+02     120.136115  1.915646e+03  4.540666e+04   \n",
      "std      200.075183  2.044559e+04    5229.047509  5.711983e+04  4.138746e+05   \n",
      "min        0.000000  0.000000e+00       0.000000  0.000000e+00  0.000000e+00   \n",
      "25%        0.000000  0.000000e+00       0.000000  0.000000e+00  0.000000e+00   \n",
      "50%        0.000000  0.000000e+00       0.000000  0.000000e+00  0.000000e+00   \n",
      "75%        0.000000  0.000000e+00       0.000000  0.000000e+00  0.000000e+00   \n",
      "max    20070.000000  3.376892e+06  618212.000000  7.771682e+06  6.340207e+07   \n",
      "\n",
      "       ...        ee_002        ee_003        ee_004        ee_005  \\\n",
      "count  ...  5.833400e+04  5.833400e+04  5.833400e+04  5.833400e+04   \n",
      "mean   ...  3.783093e+05  1.806113e+05  3.820779e+05  3.226419e+05   \n",
      "std    ...  8.843276e+05  4.089108e+05  8.943229e+05  6.681121e+05   \n",
      "min    ...  0.000000e+00  0.000000e+00  0.000000e+00  0.000000e+00   \n",
      "25%    ...  2.838500e+03  1.106000e+03  2.534500e+03  3.326500e+03   \n",
      "50%    ...  2.267640e+05  1.082340e+05  2.140620e+05  1.832650e+05   \n",
      "75%    ...  4.273700e+05  2.125540e+05  4.523675e+05  3.915910e+05   \n",
      "max    ...  7.793393e+07  3.775839e+07  9.715238e+07  3.411102e+07   \n",
      "\n",
      "             ee_006        ee_007        ee_008        ee_009        ef_000  \\\n",
      "count  5.833400e+04  5.833400e+04  5.833400e+04  5.833400e+04  56653.000000   \n",
      "mean   2.749289e+05  3.100308e+05  1.248823e+05  7.669136e+03      0.082149   \n",
      "std    7.747345e+05  1.639254e+06  3.363635e+05  3.781107e+04      4.101906   \n",
      "min    0.000000e+00  0.000000e+00  0.000000e+00  0.000000e+00      0.000000   \n",
      "25%    4.625000e+02  1.020000e+02  0.000000e+00  0.000000e+00      0.000000   \n",
      "50%    8.423600e+04  3.846400e+04  3.294000e+03  0.000000e+00      0.000000   \n",
      "75%    2.668760e+05  1.630720e+05  1.370910e+05  2.030000e+03      0.000000   \n",
      "max    2.811407e+07  1.195801e+08  1.404564e+07  2.708070e+06    482.000000   \n",
      "\n",
      "             eg_000  \n",
      "count  56654.000000  \n",
      "mean       0.196526  \n",
      "std        8.456985  \n",
      "min        0.000000  \n",
      "25%        0.000000  \n",
      "50%        0.000000  \n",
      "75%        0.000000  \n",
      "max     1146.000000  \n",
      "\n",
      "[8 rows x 170 columns]\n"
     ]
    }
   ],
   "source": [
    "def describe_examples(df) -> None:\n",
    "    df_pos = df[df['class'] == 'pos'].drop('class', axis=1).mean()\n",
    "    df_neg = df[df['class'] == 'neg'].drop('class', axis=1)\n",
    "    print('POS:')\n",
    "    print(df_pos.describe(include='all'))\n",
    "    print('NEG:')\n",
    "    print(df_neg.describe(include='all'))\n",
    "\n",
    "describe_examples(df)\n"
   ]
  },
  {
   "cell_type": "markdown",
   "id": "a866034c",
   "metadata": {
    "papermill": {
     "duration": 0.012666,
     "end_time": "2024-08-17T17:43:08.048584",
     "exception": false,
     "start_time": "2024-08-17T17:43:08.035918",
     "status": "completed"
    },
    "tags": []
   },
   "source": [
    "The mean being similar to the median indicates symmetry in the distribution of values in our datasets. At first glance, I expected there would be a significant difference between these two statistical measures due to the differing proportions of some observed values."
   ]
  },
  {
   "cell_type": "code",
   "execution_count": 10,
   "id": "2081f25c",
   "metadata": {
    "execution": {
     "iopub.execute_input": "2024-08-17T17:43:08.076016Z",
     "iopub.status.busy": "2024-08-17T17:43:08.075579Z",
     "iopub.status.idle": "2024-08-17T17:43:09.675607Z",
     "shell.execute_reply": "2024-08-17T17:43:09.674338Z"
    },
    "papermill": {
     "duration": 1.616895,
     "end_time": "2024-08-17T17:43:09.678292",
     "exception": false,
     "start_time": "2024-08-17T17:43:08.061397",
     "status": "completed"
    },
    "tags": []
   },
   "outputs": [
    {
     "name": "stdout",
     "output_type": "stream",
     "text": [
      "Percentage of outliers > 1e+01 for 'pos': 74.15% (Total 'pos' = 140847)\n",
      "Percentage of outliers > 1e+01 for 'neg': 62.49% (Total 'neg' = 9209138)\n",
      "Percentage of outliers > 1e+02 for 'pos': 72.56% (Total 'pos' = 140847)\n",
      "Percentage of outliers > 1e+02 for 'neg': 56.15% (Total 'neg' = 9209138)\n",
      "Percentage of outliers > 1e+03 for 'pos': 69.34% (Total 'pos' = 140847)\n",
      "Percentage of outliers > 1e+03 for 'neg': 47.11% (Total 'neg' = 9209138)\n",
      "Percentage of outliers > 1e+04 for 'pos': 63.03% (Total 'pos' = 140847)\n",
      "Percentage of outliers > 1e+04 for 'neg': 36.10% (Total 'neg' = 9209138)\n",
      "Percentage of outliers > 1e+05 for 'pos': 53.37% (Total 'pos' = 140847)\n",
      "Percentage of outliers > 1e+05 for 'neg': 23.95% (Total 'neg' = 9209138)\n",
      "Percentage of outliers > 1e+06 for 'pos': 34.73% (Total 'pos' = 140847)\n",
      "Percentage of outliers > 1e+06 for 'neg': 10.03% (Total 'neg' = 9209138)\n",
      "Percentage of outliers > 1e+07 for 'pos': 14.55% (Total 'pos' = 140847)\n",
      "Percentage of outliers > 1e+07 for 'neg': 0.86% (Total 'neg' = 9209138)\n",
      "Percentage of outliers > 1e+08 for 'pos': 0.46% (Total 'pos' = 140847)\n",
      "Percentage of outliers > 1e+08 for 'neg': 0.11% (Total 'neg' = 9209138)\n"
     ]
    }
   ],
   "source": [
    "# Define outlier criteria\n",
    "outlier_limits = [1e1, 1e2, 1e3, 1e4, 1e5, 1e6, 1e7, 1e8]\n",
    "\n",
    "# Function to count outliers and calculate percentages for the specified class\n",
    "def count_outliers_by_class(df, class_name):\n",
    "    # Filter DataFrame by the specified class\n",
    "    df_class = df[df['class'] == class_name]\n",
    "\n",
    "    # Initialize outlier counters and total data\n",
    "    total_outliers = [0] * len(outlier_limits)\n",
    "    total_data = 0\n",
    "\n",
    "    # Iterate over each numeric column and count outliers\n",
    "    for col in df_class.select_dtypes(include='number').columns:\n",
    "        total_data += df_class[col].count()\n",
    "        for i, limit in enumerate(outlier_limits):\n",
    "            outliers = df_class[col][df_class[col] > limit]\n",
    "            total_outliers[i] += outliers.count()\n",
    "\n",
    "    # Calculate percentages\n",
    "    percent_outliers = [(total_outliers[i] / total_data) * 100 for i in range(len(outlier_limits))]\n",
    "\n",
    "    return percent_outliers, total_data\n",
    "\n",
    "# Calculate outlier percentages for 'pos' and 'neg'\n",
    "percent_outliers_pos, total_pos = count_outliers_by_class(df, 'pos')\n",
    "percent_outliers_neg, total_neg = count_outliers_by_class(df, 'neg')\n",
    "\n",
    "# Print results\n",
    "for i, limit in enumerate(outlier_limits):\n",
    "    print(f\"Percentage of outliers > {limit:.0e} for 'pos': {percent_outliers_pos[i]:.2f}% (Total 'pos' = {total_pos})\")\n",
    "    print(f\"Percentage of outliers > {limit:.0e} for 'neg': {percent_outliers_neg[i]:.2f}% (Total 'neg' = {total_neg})\")\n"
   ]
  },
  {
   "cell_type": "markdown",
   "id": "d204d6eb",
   "metadata": {
    "papermill": {
     "duration": 0.012875,
     "end_time": "2024-08-17T17:43:09.704144",
     "exception": false,
     "start_time": "2024-08-17T17:43:09.691269",
     "status": "completed"
    },
    "tags": []
   },
   "source": [
    "Cool! This is an interesting feature to be used in the model preprocessing. We can observe that as the value range increases and the magnitude of outliers grows, they are more likely to appear in anomalous data and less in ideal data. Based on this, we can use some high percentiles as features in our model. We can see that quartiles are very valuable information for us; in the overwhelming majority of cases, high quartiles are distinct between an anomalous example and an ideal example."
   ]
  },
  {
   "cell_type": "markdown",
   "id": "d390f8b9",
   "metadata": {
    "papermill": {
     "duration": 0.012645,
     "end_time": "2024-08-17T17:43:09.729963",
     "exception": false,
     "start_time": "2024-08-17T17:43:09.717318",
     "status": "completed"
    },
    "tags": []
   },
   "source": [
    "# Data Preprocessing"
   ]
  },
  {
   "cell_type": "code",
   "execution_count": 11,
   "id": "bba2651c",
   "metadata": {
    "execution": {
     "iopub.execute_input": "2024-08-17T17:43:09.757595Z",
     "iopub.status.busy": "2024-08-17T17:43:09.757137Z",
     "iopub.status.idle": "2024-08-17T17:44:19.803669Z",
     "shell.execute_reply": "2024-08-17T17:44:19.802581Z"
    },
    "papermill": {
     "duration": 70.077534,
     "end_time": "2024-08-17T17:44:19.820424",
     "exception": false,
     "start_time": "2024-08-17T17:43:09.742890",
     "status": "completed"
    },
    "tags": []
   },
   "outputs": [
    {
     "name": "stderr",
     "output_type": "stream",
     "text": [
      "/tmp/ipykernel_18/1073350842.py:23: FutureWarning: Setting an item of incompatible dtype is deprecated and will raise in a future error of pandas. Value '[2.79250729e-02 1.20361295e-02 1.49423061e-02 ... 4.07782233e-05\n",
      " 2.92336170e-02 1.46444794e-02]' has dtype incompatible with int64, please explicitly cast to a compatible dtype first.\n",
      "  df.iloc[:, 1:] = scaler.fit_transform(df.iloc[:, 1:])\n"
     ]
    },
    {
     "data": {
      "text/html": [
       "<div>\n",
       "<style scoped>\n",
       "    .dataframe tbody tr th:only-of-type {\n",
       "        vertical-align: middle;\n",
       "    }\n",
       "\n",
       "    .dataframe tbody tr th {\n",
       "        vertical-align: top;\n",
       "    }\n",
       "\n",
       "    .dataframe thead th {\n",
       "        text-align: right;\n",
       "    }\n",
       "</style>\n",
       "<table border=\"1\" class=\"dataframe\">\n",
       "  <thead>\n",
       "    <tr style=\"text-align: right;\">\n",
       "      <th></th>\n",
       "      <th>class</th>\n",
       "      <th>aa_000</th>\n",
       "      <th>ac_000</th>\n",
       "      <th>ad_000</th>\n",
       "      <th>ae_000</th>\n",
       "      <th>af_000</th>\n",
       "      <th>ag_000</th>\n",
       "      <th>ag_001</th>\n",
       "      <th>ag_002</th>\n",
       "      <th>ag_003</th>\n",
       "      <th>...</th>\n",
       "      <th>ee_009</th>\n",
       "      <th>ef_000</th>\n",
       "      <th>eg_000</th>\n",
       "      <th>Median</th>\n",
       "      <th>Mean</th>\n",
       "      <th>1st Quartile</th>\n",
       "      <th>3rd Quartile</th>\n",
       "      <th>95th Percentile</th>\n",
       "      <th>Number of Zeros</th>\n",
       "      <th>Number of Outliers</th>\n",
       "    </tr>\n",
       "  </thead>\n",
       "  <tbody>\n",
       "    <tr>\n",
       "      <th>0</th>\n",
       "      <td>0</td>\n",
       "      <td>0.027925</td>\n",
       "      <td>9.999998e-01</td>\n",
       "      <td>3.261769e-08</td>\n",
       "      <td>0.0</td>\n",
       "      <td>0.000000</td>\n",
       "      <td>0.0</td>\n",
       "      <td>0.0</td>\n",
       "      <td>0.0</td>\n",
       "      <td>0.000000</td>\n",
       "      <td>...</td>\n",
       "      <td>0.000000</td>\n",
       "      <td>0.000000</td>\n",
       "      <td>0.000000</td>\n",
       "      <td>0.001868</td>\n",
       "      <td>0.027257</td>\n",
       "      <td>0.0</td>\n",
       "      <td>0.021296</td>\n",
       "      <td>0.057779</td>\n",
       "      <td>52.0</td>\n",
       "      <td>0.0</td>\n",
       "    </tr>\n",
       "    <tr>\n",
       "      <th>1</th>\n",
       "      <td>0</td>\n",
       "      <td>0.012036</td>\n",
       "      <td>0.000000e+00</td>\n",
       "      <td>1.467796e-08</td>\n",
       "      <td>0.0</td>\n",
       "      <td>0.000000</td>\n",
       "      <td>0.0</td>\n",
       "      <td>0.0</td>\n",
       "      <td>0.0</td>\n",
       "      <td>0.000000</td>\n",
       "      <td>...</td>\n",
       "      <td>0.000394</td>\n",
       "      <td>0.000000</td>\n",
       "      <td>0.000000</td>\n",
       "      <td>0.001039</td>\n",
       "      <td>0.014098</td>\n",
       "      <td>0.0</td>\n",
       "      <td>0.008209</td>\n",
       "      <td>0.019709</td>\n",
       "      <td>54.0</td>\n",
       "      <td>0.0</td>\n",
       "    </tr>\n",
       "    <tr>\n",
       "      <th>2</th>\n",
       "      <td>0</td>\n",
       "      <td>0.014942</td>\n",
       "      <td>1.070067e-07</td>\n",
       "      <td>1.164918e-08</td>\n",
       "      <td>0.0</td>\n",
       "      <td>0.000000</td>\n",
       "      <td>0.0</td>\n",
       "      <td>0.0</td>\n",
       "      <td>0.0</td>\n",
       "      <td>0.000000</td>\n",
       "      <td>...</td>\n",
       "      <td>0.000135</td>\n",
       "      <td>0.000000</td>\n",
       "      <td>0.000000</td>\n",
       "      <td>0.000659</td>\n",
       "      <td>0.007745</td>\n",
       "      <td>0.0</td>\n",
       "      <td>0.006622</td>\n",
       "      <td>0.020031</td>\n",
       "      <td>55.0</td>\n",
       "      <td>0.0</td>\n",
       "    </tr>\n",
       "    <tr>\n",
       "      <th>3</th>\n",
       "      <td>0</td>\n",
       "      <td>0.000004</td>\n",
       "      <td>3.285295e-08</td>\n",
       "      <td>7.688457e-09</td>\n",
       "      <td>0.0</td>\n",
       "      <td>0.000498</td>\n",
       "      <td>0.0</td>\n",
       "      <td>0.0</td>\n",
       "      <td>0.0</td>\n",
       "      <td>0.000005</td>\n",
       "      <td>...</td>\n",
       "      <td>0.000000</td>\n",
       "      <td>0.008299</td>\n",
       "      <td>0.027923</td>\n",
       "      <td>0.000004</td>\n",
       "      <td>0.002593</td>\n",
       "      <td>0.0</td>\n",
       "      <td>0.000037</td>\n",
       "      <td>0.000652</td>\n",
       "      <td>56.0</td>\n",
       "      <td>0.0</td>\n",
       "    </tr>\n",
       "    <tr>\n",
       "      <th>4</th>\n",
       "      <td>0</td>\n",
       "      <td>0.022164</td>\n",
       "      <td>6.420405e-07</td>\n",
       "      <td>5.335323e-08</td>\n",
       "      <td>0.0</td>\n",
       "      <td>0.000000</td>\n",
       "      <td>0.0</td>\n",
       "      <td>0.0</td>\n",
       "      <td>0.0</td>\n",
       "      <td>0.000000</td>\n",
       "      <td>...</td>\n",
       "      <td>0.000320</td>\n",
       "      <td>0.000000</td>\n",
       "      <td>0.000000</td>\n",
       "      <td>0.001725</td>\n",
       "      <td>0.017165</td>\n",
       "      <td>0.0</td>\n",
       "      <td>0.010527</td>\n",
       "      <td>0.033052</td>\n",
       "      <td>48.0</td>\n",
       "      <td>0.0</td>\n",
       "    </tr>\n",
       "  </tbody>\n",
       "</table>\n",
       "<p>5 rows × 169 columns</p>\n",
       "</div>"
      ],
      "text/plain": [
       "  class    aa_000        ac_000        ad_000  ae_000    af_000  ag_000  \\\n",
       "0     0  0.027925  9.999998e-01  3.261769e-08     0.0  0.000000     0.0   \n",
       "1     0  0.012036  0.000000e+00  1.467796e-08     0.0  0.000000     0.0   \n",
       "2     0  0.014942  1.070067e-07  1.164918e-08     0.0  0.000000     0.0   \n",
       "3     0  0.000004  3.285295e-08  7.688457e-09     0.0  0.000498     0.0   \n",
       "4     0  0.022164  6.420405e-07  5.335323e-08     0.0  0.000000     0.0   \n",
       "\n",
       "   ag_001  ag_002    ag_003  ...    ee_009    ef_000    eg_000    Median  \\\n",
       "0     0.0     0.0  0.000000  ...  0.000000  0.000000  0.000000  0.001868   \n",
       "1     0.0     0.0  0.000000  ...  0.000394  0.000000  0.000000  0.001039   \n",
       "2     0.0     0.0  0.000000  ...  0.000135  0.000000  0.000000  0.000659   \n",
       "3     0.0     0.0  0.000005  ...  0.000000  0.008299  0.027923  0.000004   \n",
       "4     0.0     0.0  0.000000  ...  0.000320  0.000000  0.000000  0.001725   \n",
       "\n",
       "       Mean  1st Quartile  3rd Quartile  95th Percentile  Number of Zeros  \\\n",
       "0  0.027257           0.0      0.021296         0.057779             52.0   \n",
       "1  0.014098           0.0      0.008209         0.019709             54.0   \n",
       "2  0.007745           0.0      0.006622         0.020031             55.0   \n",
       "3  0.002593           0.0      0.000037         0.000652             56.0   \n",
       "4  0.017165           0.0      0.010527         0.033052             48.0   \n",
       "\n",
       "   Number of Outliers  \n",
       "0                 0.0  \n",
       "1                 0.0  \n",
       "2                 0.0  \n",
       "3                 0.0  \n",
       "4                 0.0  \n",
       "\n",
       "[5 rows x 169 columns]"
      ]
     },
     "execution_count": 11,
     "metadata": {},
     "output_type": "execute_result"
    }
   ],
   "source": [
    "def preprocess(df: pd.DataFrame) -> pd.DataFrame:\n",
    "    # Replace 'na' with NaN\n",
    "    df = df.replace('na', np.nan)\n",
    "\n",
    "    # Remove columns specified in columns_with_missing_values\n",
    "    df = df.drop(columns=columns_with_missing_values, errors='ignore')\n",
    "\n",
    "    df['class'] = pd.Categorical(df['class'])\n",
    "    # Map 'pos' to 1 and 'neg' to 0\n",
    "    label_map = {'neg': 0, 'pos': 1}\n",
    "\n",
    "    # Apply the mapping to the 'class' column\n",
    "    df['class'] = df['class'].map(label_map)\n",
    "\n",
    "    # Impute missing values with the median\n",
    "    numeric_cols = df.select_dtypes(include=np.number).columns\n",
    "    df[numeric_cols] = df[numeric_cols].apply(lambda x: x.fillna(x.median()))\n",
    "\n",
    "    # Initialize the MinMaxScaler\n",
    "    scaler = MinMaxScaler()\n",
    "\n",
    "    # Apply the scaler to the numerical data (excluding the first column)\n",
    "    df.iloc[:, 1:] = scaler.fit_transform(df.iloc[:, 1:])\n",
    "\n",
    "    # Calculate statistics for each row of the DataFrame\n",
    "    def calculate_row_statistics(row):\n",
    "        numeric_values = row.iloc[1:].astype(np.float64)  # Selects only numeric columns\n",
    "        median = np.median(numeric_values)\n",
    "        mean = np.mean(numeric_values)\n",
    "        quartiles = np.percentile(numeric_values, [25, 75, 95])\n",
    "        num_zeros = np.sum(numeric_values == 0)\n",
    "        num_outliers = np.sum(numeric_values > 1e7)  # Outlier criterion\n",
    "        return pd.Series([median, mean, quartiles[0], quartiles[1], quartiles[2], num_zeros, num_outliers],\n",
    "                         index=['Median', 'Mean', '1st Quartile', '3rd Quartile', '95th Percentile',\n",
    "                                'Number of Zeros', 'Number of Outliers'])\n",
    "\n",
    "    # Apply the calculate_row_statistics function to each row of the DataFrame\n",
    "    statistics = df.apply(calculate_row_statistics, axis=1)\n",
    "\n",
    "    # Concatenate the calculated statistics with the original DataFrame\n",
    "    df_result = pd.concat([df, statistics], axis=1)\n",
    "\n",
    "    return df_result\n",
    "\n",
    "df = preprocess(df)\n",
    "df.head()\n"
   ]
  },
  {
   "cell_type": "code",
   "execution_count": 12,
   "id": "40a97f32",
   "metadata": {
    "execution": {
     "iopub.execute_input": "2024-08-17T17:44:19.849664Z",
     "iopub.status.busy": "2024-08-17T17:44:19.849240Z",
     "iopub.status.idle": "2024-08-17T17:44:19.927830Z",
     "shell.execute_reply": "2024-08-17T17:44:19.926464Z"
    },
    "papermill": {
     "duration": 0.096187,
     "end_time": "2024-08-17T17:44:19.930597",
     "exception": false,
     "start_time": "2024-08-17T17:44:19.834410",
     "status": "completed"
    },
    "tags": []
   },
   "outputs": [
    {
     "data": {
      "text/html": [
       "<div>\n",
       "<style scoped>\n",
       "    .dataframe tbody tr th:only-of-type {\n",
       "        vertical-align: middle;\n",
       "    }\n",
       "\n",
       "    .dataframe tbody tr th {\n",
       "        vertical-align: top;\n",
       "    }\n",
       "\n",
       "    .dataframe thead th {\n",
       "        text-align: right;\n",
       "    }\n",
       "</style>\n",
       "<table border=\"1\" class=\"dataframe\">\n",
       "  <thead>\n",
       "    <tr style=\"text-align: right;\">\n",
       "      <th></th>\n",
       "      <th>class</th>\n",
       "      <th>aa_000</th>\n",
       "      <th>ac_000</th>\n",
       "      <th>ad_000</th>\n",
       "      <th>ae_000</th>\n",
       "      <th>af_000</th>\n",
       "      <th>ag_000</th>\n",
       "      <th>ag_001</th>\n",
       "      <th>ag_002</th>\n",
       "      <th>ag_003</th>\n",
       "      <th>...</th>\n",
       "      <th>ee_009</th>\n",
       "      <th>ef_000</th>\n",
       "      <th>eg_000</th>\n",
       "      <th>Median</th>\n",
       "      <th>Mean</th>\n",
       "      <th>1st Quartile</th>\n",
       "      <th>3rd Quartile</th>\n",
       "      <th>95th Percentile</th>\n",
       "      <th>Number of Zeros</th>\n",
       "      <th>Number of Outliers</th>\n",
       "    </tr>\n",
       "  </thead>\n",
       "  <tbody>\n",
       "    <tr>\n",
       "      <th>0</th>\n",
       "      <td>0</td>\n",
       "      <td>0.013967</td>\n",
       "      <td>0.000000e+00</td>\n",
       "      <td>1.467796e-08</td>\n",
       "      <td>0.0</td>\n",
       "      <td>0.0</td>\n",
       "      <td>0.0</td>\n",
       "      <td>0.0</td>\n",
       "      <td>0.0</td>\n",
       "      <td>0.0</td>\n",
       "      <td>...</td>\n",
       "      <td>0.002664</td>\n",
       "      <td>0.0</td>\n",
       "      <td>0.0</td>\n",
       "      <td>2.830724e-04</td>\n",
       "      <td>0.021092</td>\n",
       "      <td>0.0</td>\n",
       "      <td>0.011278</td>\n",
       "      <td>0.030039</td>\n",
       "      <td>62.0</td>\n",
       "      <td>0.0</td>\n",
       "    </tr>\n",
       "    <tr>\n",
       "      <th>1</th>\n",
       "      <td>0</td>\n",
       "      <td>0.000003</td>\n",
       "      <td>2.815967e-09</td>\n",
       "      <td>6.989506e-10</td>\n",
       "      <td>0.0</td>\n",
       "      <td>0.0</td>\n",
       "      <td>0.0</td>\n",
       "      <td>0.0</td>\n",
       "      <td>0.0</td>\n",
       "      <td>0.0</td>\n",
       "      <td>...</td>\n",
       "      <td>0.000000</td>\n",
       "      <td>0.0</td>\n",
       "      <td>0.0</td>\n",
       "      <td>3.336159e-07</td>\n",
       "      <td>0.002485</td>\n",
       "      <td>0.0</td>\n",
       "      <td>0.000026</td>\n",
       "      <td>0.000341</td>\n",
       "      <td>72.0</td>\n",
       "      <td>0.0</td>\n",
       "    </tr>\n",
       "    <tr>\n",
       "      <th>2</th>\n",
       "      <td>0</td>\n",
       "      <td>0.016013</td>\n",
       "      <td>9.949750e-08</td>\n",
       "      <td>2.050255e-08</td>\n",
       "      <td>0.0</td>\n",
       "      <td>0.0</td>\n",
       "      <td>0.0</td>\n",
       "      <td>0.0</td>\n",
       "      <td>0.0</td>\n",
       "      <td>0.0</td>\n",
       "      <td>...</td>\n",
       "      <td>0.007617</td>\n",
       "      <td>0.0</td>\n",
       "      <td>0.0</td>\n",
       "      <td>5.097535e-04</td>\n",
       "      <td>0.017994</td>\n",
       "      <td>0.0</td>\n",
       "      <td>0.010655</td>\n",
       "      <td>0.025019</td>\n",
       "      <td>56.0</td>\n",
       "      <td>0.0</td>\n",
       "    </tr>\n",
       "    <tr>\n",
       "      <th>3</th>\n",
       "      <td>0</td>\n",
       "      <td>0.017184</td>\n",
       "      <td>1.614488e-07</td>\n",
       "      <td>3.611245e-08</td>\n",
       "      <td>0.0</td>\n",
       "      <td>0.0</td>\n",
       "      <td>0.0</td>\n",
       "      <td>0.0</td>\n",
       "      <td>0.0</td>\n",
       "      <td>0.0</td>\n",
       "      <td>...</td>\n",
       "      <td>0.000300</td>\n",
       "      <td>0.0</td>\n",
       "      <td>0.0</td>\n",
       "      <td>1.045385e-03</td>\n",
       "      <td>0.019766</td>\n",
       "      <td>0.0</td>\n",
       "      <td>0.008122</td>\n",
       "      <td>0.027648</td>\n",
       "      <td>50.0</td>\n",
       "      <td>0.0</td>\n",
       "    </tr>\n",
       "    <tr>\n",
       "      <th>4</th>\n",
       "      <td>0</td>\n",
       "      <td>0.014500</td>\n",
       "      <td>3.341614e-07</td>\n",
       "      <td>6.919611e-08</td>\n",
       "      <td>0.0</td>\n",
       "      <td>0.0</td>\n",
       "      <td>0.0</td>\n",
       "      <td>0.0</td>\n",
       "      <td>0.0</td>\n",
       "      <td>0.0</td>\n",
       "      <td>...</td>\n",
       "      <td>0.004445</td>\n",
       "      <td>0.0</td>\n",
       "      <td>0.0</td>\n",
       "      <td>5.058181e-04</td>\n",
       "      <td>0.017544</td>\n",
       "      <td>0.0</td>\n",
       "      <td>0.005696</td>\n",
       "      <td>0.021318</td>\n",
       "      <td>55.0</td>\n",
       "      <td>0.0</td>\n",
       "    </tr>\n",
       "  </tbody>\n",
       "</table>\n",
       "<p>5 rows × 169 columns</p>\n",
       "</div>"
      ],
      "text/plain": [
       "  class    aa_000        ac_000        ad_000  ae_000  af_000  ag_000  ag_001  \\\n",
       "0     0  0.013967  0.000000e+00  1.467796e-08     0.0     0.0     0.0     0.0   \n",
       "1     0  0.000003  2.815967e-09  6.989506e-10     0.0     0.0     0.0     0.0   \n",
       "2     0  0.016013  9.949750e-08  2.050255e-08     0.0     0.0     0.0     0.0   \n",
       "3     0  0.017184  1.614488e-07  3.611245e-08     0.0     0.0     0.0     0.0   \n",
       "4     0  0.014500  3.341614e-07  6.919611e-08     0.0     0.0     0.0     0.0   \n",
       "\n",
       "   ag_002  ag_003  ...    ee_009  ef_000  eg_000        Median      Mean  \\\n",
       "0     0.0     0.0  ...  0.002664     0.0     0.0  2.830724e-04  0.021092   \n",
       "1     0.0     0.0  ...  0.000000     0.0     0.0  3.336159e-07  0.002485   \n",
       "2     0.0     0.0  ...  0.007617     0.0     0.0  5.097535e-04  0.017994   \n",
       "3     0.0     0.0  ...  0.000300     0.0     0.0  1.045385e-03  0.019766   \n",
       "4     0.0     0.0  ...  0.004445     0.0     0.0  5.058181e-04  0.017544   \n",
       "\n",
       "   1st Quartile  3rd Quartile  95th Percentile  Number of Zeros  \\\n",
       "0           0.0      0.011278         0.030039             62.0   \n",
       "1           0.0      0.000026         0.000341             72.0   \n",
       "2           0.0      0.010655         0.025019             56.0   \n",
       "3           0.0      0.008122         0.027648             50.0   \n",
       "4           0.0      0.005696         0.021318             55.0   \n",
       "\n",
       "   Number of Outliers  \n",
       "0                 0.0  \n",
       "1                 0.0  \n",
       "2                 0.0  \n",
       "3                 0.0  \n",
       "4                 0.0  \n",
       "\n",
       "[5 rows x 169 columns]"
      ]
     },
     "execution_count": 12,
     "metadata": {},
     "output_type": "execute_result"
    }
   ],
   "source": [
    "# Shuffle the rows of the DataFrame\n",
    "df = shuffle(df, random_state=42)\n",
    "\n",
    "# Reset the index after shuffling\n",
    "df.reset_index(drop=True, inplace=True)\n",
    "\n",
    "# Check the shuffled DataFrame\n",
    "df.head()\n"
   ]
  },
  {
   "cell_type": "markdown",
   "id": "613f7e9a",
   "metadata": {
    "papermill": {
     "duration": 0.013367,
     "end_time": "2024-08-17T17:44:19.957731",
     "exception": false,
     "start_time": "2024-08-17T17:44:19.944364",
     "status": "completed"
    },
    "tags": []
   },
   "source": [
    "# Model Training"
   ]
  },
  {
   "cell_type": "code",
   "execution_count": 13,
   "id": "a2af9cda",
   "metadata": {
    "execution": {
     "iopub.execute_input": "2024-08-17T17:44:19.987198Z",
     "iopub.status.busy": "2024-08-17T17:44:19.986743Z",
     "iopub.status.idle": "2024-08-17T17:44:20.029378Z",
     "shell.execute_reply": "2024-08-17T17:44:20.028023Z"
    },
    "papermill": {
     "duration": 0.060415,
     "end_time": "2024-08-17T17:44:20.032153",
     "exception": false,
     "start_time": "2024-08-17T17:44:19.971738",
     "status": "completed"
    },
    "tags": []
   },
   "outputs": [
    {
     "name": "stdout",
     "output_type": "stream",
     "text": [
      "{0: 59.0, 1: 1}\n"
     ]
    }
   ],
   "source": [
    "# Constructing weights based on the cost matrix\n",
    "weight = len(df[df['class'] == 0]) / len(df[df['class'] == 1])\n",
    "\n",
    "weights = {\n",
    "    0: weight,   # Positive\n",
    "    1: 1,        # Negative\n",
    "}\n",
    "print(weights)"
   ]
  },
  {
   "cell_type": "code",
   "execution_count": 14,
   "id": "edf14c41",
   "metadata": {
    "execution": {
     "iopub.execute_input": "2024-08-17T17:44:20.061803Z",
     "iopub.status.busy": "2024-08-17T17:44:20.061339Z",
     "iopub.status.idle": "2024-08-17T17:44:20.093339Z",
     "shell.execute_reply": "2024-08-17T17:44:20.092188Z"
    },
    "papermill": {
     "duration": 0.050459,
     "end_time": "2024-08-17T17:44:20.096333",
     "exception": false,
     "start_time": "2024-08-17T17:44:20.045874",
     "status": "completed"
    },
    "tags": []
   },
   "outputs": [],
   "source": [
    "X = df.drop('class', axis=1)\n",
    "y = df['class']"
   ]
  },
  {
   "cell_type": "code",
   "execution_count": 15,
   "id": "8d0a8aed",
   "metadata": {
    "execution": {
     "iopub.execute_input": "2024-08-17T17:44:20.126349Z",
     "iopub.status.busy": "2024-08-17T17:44:20.125927Z",
     "iopub.status.idle": "2024-08-17T17:45:15.089363Z",
     "shell.execute_reply": "2024-08-17T17:45:15.088206Z"
    },
    "papermill": {
     "duration": 54.98193,
     "end_time": "2024-08-17T17:45:15.092284",
     "exception": false,
     "start_time": "2024-08-17T17:44:20.110354",
     "status": "completed"
    },
    "tags": []
   },
   "outputs": [],
   "source": [
    "# Select the best 100 features\n",
    "selector = SelectKBest(score_func=mutual_info_classif, k=130)\n",
    "X_selected = selector.fit_transform(X, y)"
   ]
  },
  {
   "cell_type": "code",
   "execution_count": 16,
   "id": "8de0bd09",
   "metadata": {
    "execution": {
     "iopub.execute_input": "2024-08-17T17:45:15.123397Z",
     "iopub.status.busy": "2024-08-17T17:45:15.122203Z",
     "iopub.status.idle": "2024-08-17T17:47:53.460520Z",
     "shell.execute_reply": "2024-08-17T17:47:53.459215Z"
    },
    "papermill": {
     "duration": 158.369762,
     "end_time": "2024-08-17T17:47:53.476556",
     "exception": false,
     "start_time": "2024-08-17T17:45:15.106794",
     "status": "completed"
    },
    "tags": []
   },
   "outputs": [
    {
     "data": {
      "text/html": [
       "<style>#sk-container-id-1 {color: black;background-color: white;}#sk-container-id-1 pre{padding: 0;}#sk-container-id-1 div.sk-toggleable {background-color: white;}#sk-container-id-1 label.sk-toggleable__label {cursor: pointer;display: block;width: 100%;margin-bottom: 0;padding: 0.3em;box-sizing: border-box;text-align: center;}#sk-container-id-1 label.sk-toggleable__label-arrow:before {content: \"▸\";float: left;margin-right: 0.25em;color: #696969;}#sk-container-id-1 label.sk-toggleable__label-arrow:hover:before {color: black;}#sk-container-id-1 div.sk-estimator:hover label.sk-toggleable__label-arrow:before {color: black;}#sk-container-id-1 div.sk-toggleable__content {max-height: 0;max-width: 0;overflow: hidden;text-align: left;background-color: #f0f8ff;}#sk-container-id-1 div.sk-toggleable__content pre {margin: 0.2em;color: black;border-radius: 0.25em;background-color: #f0f8ff;}#sk-container-id-1 input.sk-toggleable__control:checked~div.sk-toggleable__content {max-height: 200px;max-width: 100%;overflow: auto;}#sk-container-id-1 input.sk-toggleable__control:checked~label.sk-toggleable__label-arrow:before {content: \"▾\";}#sk-container-id-1 div.sk-estimator input.sk-toggleable__control:checked~label.sk-toggleable__label {background-color: #d4ebff;}#sk-container-id-1 div.sk-label input.sk-toggleable__control:checked~label.sk-toggleable__label {background-color: #d4ebff;}#sk-container-id-1 input.sk-hidden--visually {border: 0;clip: rect(1px 1px 1px 1px);clip: rect(1px, 1px, 1px, 1px);height: 1px;margin: -1px;overflow: hidden;padding: 0;position: absolute;width: 1px;}#sk-container-id-1 div.sk-estimator {font-family: monospace;background-color: #f0f8ff;border: 1px dotted black;border-radius: 0.25em;box-sizing: border-box;margin-bottom: 0.5em;}#sk-container-id-1 div.sk-estimator:hover {background-color: #d4ebff;}#sk-container-id-1 div.sk-parallel-item::after {content: \"\";width: 100%;border-bottom: 1px solid gray;flex-grow: 1;}#sk-container-id-1 div.sk-label:hover label.sk-toggleable__label {background-color: #d4ebff;}#sk-container-id-1 div.sk-serial::before {content: \"\";position: absolute;border-left: 1px solid gray;box-sizing: border-box;top: 0;bottom: 0;left: 50%;z-index: 0;}#sk-container-id-1 div.sk-serial {display: flex;flex-direction: column;align-items: center;background-color: white;padding-right: 0.2em;padding-left: 0.2em;position: relative;}#sk-container-id-1 div.sk-item {position: relative;z-index: 1;}#sk-container-id-1 div.sk-parallel {display: flex;align-items: stretch;justify-content: center;background-color: white;position: relative;}#sk-container-id-1 div.sk-item::before, #sk-container-id-1 div.sk-parallel-item::before {content: \"\";position: absolute;border-left: 1px solid gray;box-sizing: border-box;top: 0;bottom: 0;left: 50%;z-index: -1;}#sk-container-id-1 div.sk-parallel-item {display: flex;flex-direction: column;z-index: 1;position: relative;background-color: white;}#sk-container-id-1 div.sk-parallel-item:first-child::after {align-self: flex-end;width: 50%;}#sk-container-id-1 div.sk-parallel-item:last-child::after {align-self: flex-start;width: 50%;}#sk-container-id-1 div.sk-parallel-item:only-child::after {width: 0;}#sk-container-id-1 div.sk-dashed-wrapped {border: 1px dashed gray;margin: 0 0.4em 0.5em 0.4em;box-sizing: border-box;padding-bottom: 0.4em;background-color: white;}#sk-container-id-1 div.sk-label label {font-family: monospace;font-weight: bold;display: inline-block;line-height: 1.2em;}#sk-container-id-1 div.sk-label-container {text-align: center;}#sk-container-id-1 div.sk-container {/* jupyter's `normalize.less` sets `[hidden] { display: none; }` but bootstrap.min.css set `[hidden] { display: none !important; }` so we also need the `!important` here to be able to override the default hidden behavior on the sphinx rendered scikit-learn.org. See: https://github.com/scikit-learn/scikit-learn/issues/21755 */display: inline-block !important;position: relative;}#sk-container-id-1 div.sk-text-repr-fallback {display: none;}</style><div id=\"sk-container-id-1\" class=\"sk-top-container\"><div class=\"sk-text-repr-fallback\"><pre>RandomForestClassifier(class_weight={0: 59.0, 1: 1}, random_state=42)</pre><b>In a Jupyter environment, please rerun this cell to show the HTML representation or trust the notebook. <br />On GitHub, the HTML representation is unable to render, please try loading this page with nbviewer.org.</b></div><div class=\"sk-container\" hidden><div class=\"sk-item\"><div class=\"sk-estimator sk-toggleable\"><input class=\"sk-toggleable__control sk-hidden--visually\" id=\"sk-estimator-id-1\" type=\"checkbox\" checked><label for=\"sk-estimator-id-1\" class=\"sk-toggleable__label sk-toggleable__label-arrow\">RandomForestClassifier</label><div class=\"sk-toggleable__content\"><pre>RandomForestClassifier(class_weight={0: 59.0, 1: 1}, random_state=42)</pre></div></div></div></div></div>"
      ],
      "text/plain": [
       "RandomForestClassifier(class_weight={0: 59.0, 1: 1}, random_state=42)"
      ]
     },
     "execution_count": 16,
     "metadata": {},
     "output_type": "execute_result"
    }
   ],
   "source": [
    "# Inicializando o modelo de RandomForestClassifier com class_weight\n",
    "rf = RandomForestClassifier(random_state=42, class_weight=weights)\n",
    "\n",
    "# Treinando o modelo\n",
    "rf.fit(X_selected, y)"
   ]
  },
  {
   "cell_type": "markdown",
   "id": "22a74084",
   "metadata": {
    "papermill": {
     "duration": 0.014072,
     "end_time": "2024-08-17T17:47:53.504777",
     "exception": false,
     "start_time": "2024-08-17T17:47:53.490705",
     "status": "completed"
    },
    "tags": []
   },
   "source": [
    "# Post-processing\n",
    "\n",
    "Now that the random forest is trained, I will use the costs provided in the challenge statement to adjust the model's prediction threshold in order to minimize the prediction cost."
   ]
  },
  {
   "cell_type": "code",
   "execution_count": 17,
   "id": "693db063",
   "metadata": {
    "execution": {
     "iopub.execute_input": "2024-08-17T17:47:53.535046Z",
     "iopub.status.busy": "2024-08-17T17:47:53.534606Z",
     "iopub.status.idle": "2024-08-17T17:47:55.994340Z",
     "shell.execute_reply": "2024-08-17T17:47:55.993268Z"
    },
    "papermill": {
     "duration": 2.47852,
     "end_time": "2024-08-17T17:47:55.997476",
     "exception": false,
     "start_time": "2024-08-17T17:47:53.518956",
     "status": "completed"
    },
    "tags": []
   },
   "outputs": [
    {
     "name": "stdout",
     "output_type": "stream",
     "text": [
      "Best threshold: 0.3800\n"
     ]
    },
    {
     "data": {
      "image/png": "[encoded data removed]",
      "text/plain": [
       "<Figure size 640x480 with 1 Axes>"
      ]
     },
     "metadata": {},
     "output_type": "display_data"
    }
   ],
   "source": [
    "# Predict the probabilities of the air system having or not having a defect\n",
    "scores = rf.predict_proba(X_selected)[:, 1]\n",
    "\n",
    "# Generate the ROC curve\n",
    "fpr, tpr, thresholds = roc_curve(y, scores)\n",
    "\n",
    "# Calculate the threshold that minimizes the cost\n",
    "min_cost = np.inf\n",
    "best_threshold = 0.5\n",
    "costs = []\n",
    "for threshold in thresholds:\n",
    "    y_pred_threshold = scores > threshold\n",
    "    tn, fp, fn, tp = confusion_matrix(y, y_pred_threshold).ravel()\n",
    "    cost = 10 * fp + 500 * fn\n",
    "    costs.append(cost)\n",
    "    if cost < min_cost:\n",
    "        min_cost = cost\n",
    "        best_threshold = threshold\n",
    "print(\"Best threshold: {:.4f}\".format(best_threshold))\n",
    "\n",
    "# Plot the ROC curve\n",
    "plt.plot(fpr, tpr, color='blue', lw=2, label='ROC Curve')\n",
    "plt.plot([0, 1], [0, 1], color='gray', linestyle='--', label='Baseline')\n",
    "plt.xlabel('False Positive Rate (FPR)')\n",
    "plt.ylabel('True Positive Rate (TPR)')\n",
    "plt.title('ROC Curve')\n",
    "plt.legend()\n",
    "plt.grid(True)\n",
    "plt.show()\n"
   ]
  },
  {
   "cell_type": "markdown",
   "id": "c2091cd7",
   "metadata": {
    "papermill": {
     "duration": 0.014772,
     "end_time": "2024-08-17T17:47:56.027434",
     "exception": false,
     "start_time": "2024-08-17T17:47:56.012662",
     "status": "completed"
    },
    "tags": []
   },
   "source": [
    "# Model Validation\n"
   ]
  },
  {
   "cell_type": "code",
   "execution_count": 18,
   "id": "9f72dae9",
   "metadata": {
    "execution": {
     "iopub.execute_input": "2024-08-17T17:47:56.059023Z",
     "iopub.status.busy": "2024-08-17T17:47:56.058643Z",
     "iopub.status.idle": "2024-08-17T17:48:18.428424Z",
     "shell.execute_reply": "2024-08-17T17:48:18.427096Z"
    },
    "papermill": {
     "duration": 22.388806,
     "end_time": "2024-08-17T17:48:18.431089",
     "exception": false,
     "start_time": "2024-08-17T17:47:56.042283",
     "status": "completed"
    },
    "tags": []
   },
   "outputs": [
    {
     "name": "stderr",
     "output_type": "stream",
     "text": [
      "/tmp/ipykernel_18/1073350842.py:23: FutureWarning: Setting an item of incompatible dtype is deprecated and will raise in a future error of pandas. Value '[1.39698389e-06 1.90921132e-06 1.53672885e-03 ... 1.85417016e-03\n",
      " 2.56113714e-06 1.86264519e-07]' has dtype incompatible with int64, please explicitly cast to a compatible dtype first.\n",
      "  df.iloc[:, 1:] = scaler.fit_transform(df.iloc[:, 1:])\n",
      "/opt/conda/lib/python3.10/site-packages/sklearn/base.py:439: UserWarning: X does not have valid feature names, but SelectKBest was fitted with feature names\n",
      "  warnings.warn(\n"
     ]
    },
    {
     "name": "stdout",
     "output_type": "stream",
     "text": [
      "Accuracy: 0.972\n",
      "Accuracy: 97%\n"
     ]
    }
   ],
   "source": [
    "# Opening the test set\n",
    "cols_to_convert = df_test.columns[1:]\n",
    "df_test[cols_to_convert] = df_test[cols_to_convert].apply(pd.to_numeric, errors='coerce')\n",
    "\n",
    "# Preprocessing\n",
    "df_test = preprocess(df_test)\n",
    "\n",
    "# Select input and output\n",
    "X_test = df_test.drop('class', axis=1)\n",
    "y_test = df_test['class'].astype(int)\n",
    "\n",
    "# Normalize\n",
    "scaler = MinMaxScaler()\n",
    "X_test = scaler.fit_transform(X_test)\n",
    "\n",
    "# SelectKBest\n",
    "X_test_selected = selector.transform(X_test)\n",
    "\n",
    "# Predict probabilities\n",
    "probabilities_test = rf.predict_proba(X_test_selected)[:, 1]\n",
    "\n",
    "# Apply the best_threshold calculated during model training\n",
    "y_pred_test = probabilities_test > best_threshold\n",
    "\n",
    "# Calculate accuracy\n",
    "accuracy = accuracy_score(y_test, y_pred_test)\n",
    "print(\"Accuracy:\", accuracy)\n",
    "\n",
    "# Convert accuracy to percentage and round to the nearest integer\n",
    "accuracy_percentage = round(accuracy * 100)\n",
    "\n",
    "print(\"Accuracy: {}%\".format(accuracy_percentage))\n"
   ]
  },
  {
   "cell_type": "code",
   "execution_count": 19,
   "id": "50df2f3a",
   "metadata": {
    "execution": {
     "iopub.execute_input": "2024-08-17T17:48:18.463440Z",
     "iopub.status.busy": "2024-08-17T17:48:18.463025Z",
     "iopub.status.idle": "2024-08-17T17:48:18.649006Z",
     "shell.execute_reply": "2024-08-17T17:48:18.647365Z"
    },
    "papermill": {
     "duration": 0.205484,
     "end_time": "2024-08-17T17:48:18.651943",
     "exception": false,
     "start_time": "2024-08-17T17:48:18.446459",
     "status": "completed"
    },
    "tags": []
   },
   "outputs": [
    {
     "data": {
      "image/png": "[encoded data removed]",
      "text/plain": [
       "<Figure size 700x700 with 1 Axes>"
      ]
     },
     "metadata": {},
     "output_type": "display_data"
    }
   ],
   "source": [
    "# Create the confusion matrix\n",
    "cm = confusion_matrix(y_test, y_pred_test)\n",
    "\n",
    "# Define the labels for the confusion matrix with the desired scales\n",
    "class_names = ['NEG', 'POS']\n",
    "\n",
    "# Plot the confusion matrix with the desired scales\n",
    "plt.figure(figsize=(7, 7))\n",
    "sns.heatmap(cm, annot=True, cmap=\"Blues\", fmt=\"d\", cbar=False, xticklabels=class_names, yticklabels=class_names)\n",
    "plt.title(\"Confusion Matrix\")\n",
    "plt.xlabel(\"Prediction\")\n",
    "plt.ylabel(\"Actual\")\n",
    "plt.show()\n"
   ]
  },
  {
   "cell_type": "code",
   "execution_count": 20,
   "id": "4701e89e",
   "metadata": {
    "execution": {
     "iopub.execute_input": "2024-08-17T17:48:18.685763Z",
     "iopub.status.busy": "2024-08-17T17:48:18.685375Z",
     "iopub.status.idle": "2024-08-17T17:48:18.722206Z",
     "shell.execute_reply": "2024-08-17T17:48:18.720692Z"
    },
    "papermill": {
     "duration": 0.057078,
     "end_time": "2024-08-17T17:48:18.725180",
     "exception": false,
     "start_time": "2024-08-17T17:48:18.668102",
     "status": "completed"
    },
    "tags": []
   },
   "outputs": [
    {
     "name": "stdout",
     "output_type": "stream",
     "text": [
      "              precision    recall  f1-score   support\n",
      "\n",
      "           0       1.00      0.97      0.99     15625\n",
      "           1       0.45      0.93      0.61       375\n",
      "\n",
      "    accuracy                           0.97     16000\n",
      "   macro avg       0.73      0.95      0.80     16000\n",
      "weighted avg       0.99      0.97      0.98     16000\n",
      "\n"
     ]
    }
   ],
   "source": [
    "print(classification_report(y_test, y_pred_test))"
   ]
  },
  {
   "cell_type": "code",
   "execution_count": 21,
   "id": "e515420a",
   "metadata": {
    "execution": {
     "iopub.execute_input": "2024-08-17T17:48:18.759395Z",
     "iopub.status.busy": "2024-08-17T17:48:18.758828Z",
     "iopub.status.idle": "2024-08-17T17:48:18.767078Z",
     "shell.execute_reply": "2024-08-17T17:48:18.765744Z"
    },
    "papermill": {
     "duration": 0.028766,
     "end_time": "2024-08-17T17:48:18.770211",
     "exception": false,
     "start_time": "2024-08-17T17:48:18.741445",
     "status": "completed"
    },
    "tags": []
   },
   "outputs": [
    {
     "name": "stdout",
     "output_type": "stream",
     "text": [
      "Total Cost: 16730.00\n"
     ]
    }
   ],
   "source": [
    "# Define the weights for false positives and false negatives\n",
    "fp_weight = 10  # Weight for false positive\n",
    "fn_weight = 500  # Weight for false negative\n",
    "\n",
    "# Extract values from the confusion matrix\n",
    "tn, fp, fn, tp = cm.ravel()\n",
    "\n",
    "# Calculate costs based on the defined weights\n",
    "total_cost = fp * fp_weight + fn * fn_weight\n",
    "\n",
    "print(\"Total Cost: {:.2f}\".format(total_cost))\n"
   ]
  },
  {
   "cell_type": "code",
   "execution_count": null,
   "id": "3859eb9a",
   "metadata": {
    "papermill": {
     "duration": 0.0157,
     "end_time": "2024-08-17T17:48:18.801954",
     "exception": false,
     "start_time": "2024-08-17T17:48:18.786254",
     "status": "completed"
    },
    "tags": []
   },
   "outputs": [],
   "source": []
  }
 ],
 "metadata": {
  "kaggle": {
   "accelerator": "none",
   "dataSources": [
    {
     "datasetId": 13327,
     "sourceId": 18366,
     "sourceType": "datasetVersion"
    }
   ],
   "dockerImageVersionId": 30746,
   "isGpuEnabled": false,
   "isInternetEnabled": true,
   "language": "python",
   "sourceType": "notebook"
  },
  "kernelspec": {
   "display_name": "Python 3",
   "language": "python",
   "name": "python3"
  },
  "language_info": {
   "codemirror_mode": {
    "name": "ipython",
    "version": 3
   },
   "file_extension": ".py",
   "mimetype": "text/x-python",
   "name": "python",
   "nbconvert_exporter": "python",
   "pygments_lexer": "ipython3",
   "version": "3.10.13"
  },
  "papermill": {
   "default_parameters": {},
   "duration": 362.485585,
   "end_time": "2024-08-17T17:48:19.744386",
   "environment_variables": {},
   "exception": null,
   "input_path": "__notebook__.ipynb",
   "output_path": "__notebook__.ipynb",
   "parameters": {},
   "start_time": "2024-08-17T17:42:17.258801",
   "version": "2.5.0"
  }
 },
 "nbformat": 4,
 "nbformat_minor": 5
}
